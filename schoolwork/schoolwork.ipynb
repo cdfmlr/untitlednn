{
 "cells": [
  {
   "cell_type": "markdown",
   "metadata": {},
   "source": [
    "# 语音特征信号识别问题\n",
    "\n",
    "导入数据："
   ]
  },
  {
   "cell_type": "code",
   "execution_count": 1,
   "metadata": {},
   "outputs": [
    {
     "name": "stdout",
     "output_type": "stream",
     "text": [
      "/Users/c/Projects/untitlednn/schoolwork\n"
     ]
    }
   ],
   "source": [
    "%cd ~/Projects/untitlednn/schoolwork/"
   ]
  },
  {
   "cell_type": "code",
   "execution_count": 2,
   "metadata": {},
   "outputs": [
    {
     "data": {
      "text/html": [
       "<div>\n",
       "<style scoped>\n",
       "    .dataframe tbody tr th:only-of-type {\n",
       "        vertical-align: middle;\n",
       "    }\n",
       "\n",
       "    .dataframe tbody tr th {\n",
       "        vertical-align: top;\n",
       "    }\n",
       "\n",
       "    .dataframe thead th {\n",
       "        text-align: right;\n",
       "    }\n",
       "</style>\n",
       "<table border=\"1\" class=\"dataframe\">\n",
       "  <thead>\n",
       "    <tr style=\"text-align: right;\">\n",
       "      <th></th>\n",
       "      <th>0</th>\n",
       "      <th>1</th>\n",
       "      <th>2</th>\n",
       "      <th>3</th>\n",
       "      <th>4</th>\n",
       "      <th>5</th>\n",
       "      <th>6</th>\n",
       "      <th>7</th>\n",
       "      <th>8</th>\n",
       "      <th>9</th>\n",
       "      <th>...</th>\n",
       "      <th>15</th>\n",
       "      <th>16</th>\n",
       "      <th>17</th>\n",
       "      <th>18</th>\n",
       "      <th>19</th>\n",
       "      <th>20</th>\n",
       "      <th>21</th>\n",
       "      <th>22</th>\n",
       "      <th>23</th>\n",
       "      <th>24</th>\n",
       "    </tr>\n",
       "  </thead>\n",
       "  <tbody>\n",
       "    <tr>\n",
       "      <th>0</th>\n",
       "      <td>1</td>\n",
       "      <td>-14.827132</td>\n",
       "      <td>-3.001086</td>\n",
       "      <td>1.520908</td>\n",
       "      <td>3.955348</td>\n",
       "      <td>-1.099180</td>\n",
       "      <td>2.067763</td>\n",
       "      <td>2.231175</td>\n",
       "      <td>-0.958398</td>\n",
       "      <td>-2.516055</td>\n",
       "      <td>...</td>\n",
       "      <td>3.400569</td>\n",
       "      <td>0.661319</td>\n",
       "      <td>-2.766376</td>\n",
       "      <td>-2.527010</td>\n",
       "      <td>-0.887411</td>\n",
       "      <td>-0.617081</td>\n",
       "      <td>1.347468</td>\n",
       "      <td>1.422359</td>\n",
       "      <td>0.941648</td>\n",
       "      <td>0.213977</td>\n",
       "    </tr>\n",
       "    <tr>\n",
       "      <th>1</th>\n",
       "      <td>1</td>\n",
       "      <td>-16.228861</td>\n",
       "      <td>-2.801874</td>\n",
       "      <td>-0.410816</td>\n",
       "      <td>1.475467</td>\n",
       "      <td>-1.898392</td>\n",
       "      <td>0.085249</td>\n",
       "      <td>3.726985</td>\n",
       "      <td>3.293378</td>\n",
       "      <td>3.411859</td>\n",
       "      <td>...</td>\n",
       "      <td>0.856266</td>\n",
       "      <td>-2.322851</td>\n",
       "      <td>-0.489826</td>\n",
       "      <td>-0.005019</td>\n",
       "      <td>-1.447650</td>\n",
       "      <td>1.317829</td>\n",
       "      <td>2.688266</td>\n",
       "      <td>0.242777</td>\n",
       "      <td>-0.013173</td>\n",
       "      <td>0.320708</td>\n",
       "    </tr>\n",
       "    <tr>\n",
       "      <th>2</th>\n",
       "      <td>1</td>\n",
       "      <td>-15.124284</td>\n",
       "      <td>-2.598713</td>\n",
       "      <td>-0.359966</td>\n",
       "      <td>1.345838</td>\n",
       "      <td>-0.348833</td>\n",
       "      <td>1.971445</td>\n",
       "      <td>3.553833</td>\n",
       "      <td>2.349538</td>\n",
       "      <td>1.702098</td>\n",
       "      <td>...</td>\n",
       "      <td>-0.621471</td>\n",
       "      <td>-2.087711</td>\n",
       "      <td>3.052958</td>\n",
       "      <td>-0.632226</td>\n",
       "      <td>-3.463121</td>\n",
       "      <td>2.745615</td>\n",
       "      <td>3.066273</td>\n",
       "      <td>-0.281594</td>\n",
       "      <td>-0.228980</td>\n",
       "      <td>0.596002</td>\n",
       "    </tr>\n",
       "    <tr>\n",
       "      <th>3</th>\n",
       "      <td>1</td>\n",
       "      <td>-15.703142</td>\n",
       "      <td>-2.530057</td>\n",
       "      <td>0.255003</td>\n",
       "      <td>-0.179335</td>\n",
       "      <td>0.947239</td>\n",
       "      <td>3.381178</td>\n",
       "      <td>0.231524</td>\n",
       "      <td>2.729425</td>\n",
       "      <td>1.447020</td>\n",
       "      <td>...</td>\n",
       "      <td>-0.107419</td>\n",
       "      <td>-1.012980</td>\n",
       "      <td>1.677292</td>\n",
       "      <td>-1.426028</td>\n",
       "      <td>-2.729764</td>\n",
       "      <td>-0.134800</td>\n",
       "      <td>1.312434</td>\n",
       "      <td>0.055522</td>\n",
       "      <td>-0.097416</td>\n",
       "      <td>0.491487</td>\n",
       "    </tr>\n",
       "    <tr>\n",
       "      <th>4</th>\n",
       "      <td>1</td>\n",
       "      <td>-17.789216</td>\n",
       "      <td>-3.328424</td>\n",
       "      <td>0.255791</td>\n",
       "      <td>1.651183</td>\n",
       "      <td>2.057441</td>\n",
       "      <td>-0.528540</td>\n",
       "      <td>-1.215776</td>\n",
       "      <td>3.442000</td>\n",
       "      <td>3.065773</td>\n",
       "      <td>...</td>\n",
       "      <td>-0.417164</td>\n",
       "      <td>-1.088381</td>\n",
       "      <td>0.635619</td>\n",
       "      <td>-2.002649</td>\n",
       "      <td>-1.894483</td>\n",
       "      <td>-0.523285</td>\n",
       "      <td>1.364343</td>\n",
       "      <td>-0.099305</td>\n",
       "      <td>0.513489</td>\n",
       "      <td>0.284901</td>\n",
       "    </tr>\n",
       "    <tr>\n",
       "      <th>...</th>\n",
       "      <td>...</td>\n",
       "      <td>...</td>\n",
       "      <td>...</td>\n",
       "      <td>...</td>\n",
       "      <td>...</td>\n",
       "      <td>...</td>\n",
       "      <td>...</td>\n",
       "      <td>...</td>\n",
       "      <td>...</td>\n",
       "      <td>...</td>\n",
       "      <td>...</td>\n",
       "      <td>...</td>\n",
       "      <td>...</td>\n",
       "      <td>...</td>\n",
       "      <td>...</td>\n",
       "      <td>...</td>\n",
       "      <td>...</td>\n",
       "      <td>...</td>\n",
       "      <td>...</td>\n",
       "      <td>...</td>\n",
       "      <td>...</td>\n",
       "    </tr>\n",
       "    <tr>\n",
       "      <th>495</th>\n",
       "      <td>4</td>\n",
       "      <td>7.190856</td>\n",
       "      <td>-0.056759</td>\n",
       "      <td>5.382569</td>\n",
       "      <td>-13.531778</td>\n",
       "      <td>-1.161882</td>\n",
       "      <td>-0.204710</td>\n",
       "      <td>-9.162922</td>\n",
       "      <td>4.131636</td>\n",
       "      <td>3.737617</td>\n",
       "      <td>...</td>\n",
       "      <td>-2.043181</td>\n",
       "      <td>-2.436982</td>\n",
       "      <td>2.827389</td>\n",
       "      <td>-2.219489</td>\n",
       "      <td>1.385235</td>\n",
       "      <td>2.363008</td>\n",
       "      <td>-0.223693</td>\n",
       "      <td>-2.185853</td>\n",
       "      <td>0.207026</td>\n",
       "      <td>-0.219105</td>\n",
       "    </tr>\n",
       "    <tr>\n",
       "      <th>496</th>\n",
       "      <td>4</td>\n",
       "      <td>7.415693</td>\n",
       "      <td>-1.408122</td>\n",
       "      <td>5.599443</td>\n",
       "      <td>-12.445075</td>\n",
       "      <td>-1.722017</td>\n",
       "      <td>-0.949308</td>\n",
       "      <td>-6.659379</td>\n",
       "      <td>4.100050</td>\n",
       "      <td>4.576378</td>\n",
       "      <td>...</td>\n",
       "      <td>-4.539266</td>\n",
       "      <td>1.064208</td>\n",
       "      <td>0.335677</td>\n",
       "      <td>-0.127662</td>\n",
       "      <td>5.348143</td>\n",
       "      <td>1.315022</td>\n",
       "      <td>-0.057730</td>\n",
       "      <td>-0.556014</td>\n",
       "      <td>1.679079</td>\n",
       "      <td>-0.541798</td>\n",
       "    </tr>\n",
       "    <tr>\n",
       "      <th>497</th>\n",
       "      <td>4</td>\n",
       "      <td>7.563914</td>\n",
       "      <td>-3.206239</td>\n",
       "      <td>4.922431</td>\n",
       "      <td>-9.844637</td>\n",
       "      <td>-3.385838</td>\n",
       "      <td>-1.552266</td>\n",
       "      <td>-5.020453</td>\n",
       "      <td>5.362929</td>\n",
       "      <td>3.826636</td>\n",
       "      <td>...</td>\n",
       "      <td>-7.193123</td>\n",
       "      <td>0.973143</td>\n",
       "      <td>-2.661396</td>\n",
       "      <td>0.955371</td>\n",
       "      <td>7.583861</td>\n",
       "      <td>1.970079</td>\n",
       "      <td>0.149923</td>\n",
       "      <td>2.163521</td>\n",
       "      <td>1.589259</td>\n",
       "      <td>-0.652960</td>\n",
       "    </tr>\n",
       "    <tr>\n",
       "      <th>498</th>\n",
       "      <td>4</td>\n",
       "      <td>5.077865</td>\n",
       "      <td>-5.722349</td>\n",
       "      <td>0.719459</td>\n",
       "      <td>-10.102286</td>\n",
       "      <td>-2.862943</td>\n",
       "      <td>-0.713429</td>\n",
       "      <td>-1.751949</td>\n",
       "      <td>6.045263</td>\n",
       "      <td>4.479267</td>\n",
       "      <td>...</td>\n",
       "      <td>-10.817413</td>\n",
       "      <td>-2.947997</td>\n",
       "      <td>-3.411523</td>\n",
       "      <td>1.736462</td>\n",
       "      <td>7.250574</td>\n",
       "      <td>1.224108</td>\n",
       "      <td>-0.034888</td>\n",
       "      <td>4.351948</td>\n",
       "      <td>2.320264</td>\n",
       "      <td>-0.461395</td>\n",
       "    </tr>\n",
       "    <tr>\n",
       "      <th>499</th>\n",
       "      <td>4</td>\n",
       "      <td>1.869751</td>\n",
       "      <td>-8.563893</td>\n",
       "      <td>-2.967123</td>\n",
       "      <td>-13.243457</td>\n",
       "      <td>-4.583514</td>\n",
       "      <td>1.110407</td>\n",
       "      <td>-0.240846</td>\n",
       "      <td>6.114148</td>\n",
       "      <td>4.011057</td>\n",
       "      <td>...</td>\n",
       "      <td>-10.355056</td>\n",
       "      <td>-5.494172</td>\n",
       "      <td>-2.871559</td>\n",
       "      <td>1.901865</td>\n",
       "      <td>6.423451</td>\n",
       "      <td>0.124063</td>\n",
       "      <td>-0.023545</td>\n",
       "      <td>3.888976</td>\n",
       "      <td>1.265360</td>\n",
       "      <td>0.468718</td>\n",
       "    </tr>\n",
       "  </tbody>\n",
       "</table>\n",
       "<p>2000 rows × 25 columns</p>\n",
       "</div>"
      ],
      "text/plain": [
       "     0          1         2         3          4         5         6   \\\n",
       "0     1 -14.827132 -3.001086  1.520908   3.955348 -1.099180  2.067763   \n",
       "1     1 -16.228861 -2.801874 -0.410816   1.475467 -1.898392  0.085249   \n",
       "2     1 -15.124284 -2.598713 -0.359966   1.345838 -0.348833  1.971445   \n",
       "3     1 -15.703142 -2.530057  0.255003  -0.179335  0.947239  3.381178   \n",
       "4     1 -17.789216 -3.328424  0.255791   1.651183  2.057441 -0.528540   \n",
       "..   ..        ...       ...       ...        ...       ...       ...   \n",
       "495   4   7.190856 -0.056759  5.382569 -13.531778 -1.161882 -0.204710   \n",
       "496   4   7.415693 -1.408122  5.599443 -12.445075 -1.722017 -0.949308   \n",
       "497   4   7.563914 -3.206239  4.922431  -9.844637 -3.385838 -1.552266   \n",
       "498   4   5.077865 -5.722349  0.719459 -10.102286 -2.862943 -0.713429   \n",
       "499   4   1.869751 -8.563893 -2.967123 -13.243457 -4.583514  1.110407   \n",
       "\n",
       "           7         8         9   ...         15        16        17  \\\n",
       "0    2.231175 -0.958398 -2.516055  ...   3.400569  0.661319 -2.766376   \n",
       "1    3.726985  3.293378  3.411859  ...   0.856266 -2.322851 -0.489826   \n",
       "2    3.553833  2.349538  1.702098  ...  -0.621471 -2.087711  3.052958   \n",
       "3    0.231524  2.729425  1.447020  ...  -0.107419 -1.012980  1.677292   \n",
       "4   -1.215776  3.442000  3.065773  ...  -0.417164 -1.088381  0.635619   \n",
       "..        ...       ...       ...  ...        ...       ...       ...   \n",
       "495 -9.162922  4.131636  3.737617  ...  -2.043181 -2.436982  2.827389   \n",
       "496 -6.659379  4.100050  4.576378  ...  -4.539266  1.064208  0.335677   \n",
       "497 -5.020453  5.362929  3.826636  ...  -7.193123  0.973143 -2.661396   \n",
       "498 -1.751949  6.045263  4.479267  ... -10.817413 -2.947997 -3.411523   \n",
       "499 -0.240846  6.114148  4.011057  ... -10.355056 -5.494172 -2.871559   \n",
       "\n",
       "           18        19        20        21        22        23        24  \n",
       "0   -2.527010 -0.887411 -0.617081  1.347468  1.422359  0.941648  0.213977  \n",
       "1   -0.005019 -1.447650  1.317829  2.688266  0.242777 -0.013173  0.320708  \n",
       "2   -0.632226 -3.463121  2.745615  3.066273 -0.281594 -0.228980  0.596002  \n",
       "3   -1.426028 -2.729764 -0.134800  1.312434  0.055522 -0.097416  0.491487  \n",
       "4   -2.002649 -1.894483 -0.523285  1.364343 -0.099305  0.513489  0.284901  \n",
       "..        ...       ...       ...       ...       ...       ...       ...  \n",
       "495 -2.219489  1.385235  2.363008 -0.223693 -2.185853  0.207026 -0.219105  \n",
       "496 -0.127662  5.348143  1.315022 -0.057730 -0.556014  1.679079 -0.541798  \n",
       "497  0.955371  7.583861  1.970079  0.149923  2.163521  1.589259 -0.652960  \n",
       "498  1.736462  7.250574  1.224108 -0.034888  4.351948  2.320264 -0.461395  \n",
       "499  1.901865  6.423451  0.124063 -0.023545  3.888976  1.265360  0.468718  \n",
       "\n",
       "[2000 rows x 25 columns]"
      ]
     },
     "execution_count": 2,
     "metadata": {},
     "output_type": "execute_result"
    }
   ],
   "source": [
    "import pandas as pd\n",
    "\n",
    "full_df = pd.DataFrame()\n",
    "for i in range(1, 5):\n",
    "    df = pd.read_csv(f'data/data{i}.csv', header=None)\n",
    "    full_df = full_df.append(df)\n",
    "full_df"
   ]
  },
  {
   "cell_type": "markdown",
   "metadata": {},
   "source": [
    "打乱顺序："
   ]
  },
  {
   "cell_type": "code",
   "execution_count": 3,
   "metadata": {},
   "outputs": [
    {
     "data": {
      "text/html": [
       "<div>\n",
       "<style scoped>\n",
       "    .dataframe tbody tr th:only-of-type {\n",
       "        vertical-align: middle;\n",
       "    }\n",
       "\n",
       "    .dataframe tbody tr th {\n",
       "        vertical-align: top;\n",
       "    }\n",
       "\n",
       "    .dataframe thead th {\n",
       "        text-align: right;\n",
       "    }\n",
       "</style>\n",
       "<table border=\"1\" class=\"dataframe\">\n",
       "  <thead>\n",
       "    <tr style=\"text-align: right;\">\n",
       "      <th></th>\n",
       "      <th>0</th>\n",
       "      <th>1</th>\n",
       "      <th>2</th>\n",
       "      <th>3</th>\n",
       "      <th>4</th>\n",
       "      <th>5</th>\n",
       "      <th>6</th>\n",
       "      <th>7</th>\n",
       "      <th>8</th>\n",
       "      <th>9</th>\n",
       "      <th>...</th>\n",
       "      <th>15</th>\n",
       "      <th>16</th>\n",
       "      <th>17</th>\n",
       "      <th>18</th>\n",
       "      <th>19</th>\n",
       "      <th>20</th>\n",
       "      <th>21</th>\n",
       "      <th>22</th>\n",
       "      <th>23</th>\n",
       "      <th>24</th>\n",
       "    </tr>\n",
       "  </thead>\n",
       "  <tbody>\n",
       "    <tr>\n",
       "      <th>370</th>\n",
       "      <td>4</td>\n",
       "      <td>0.434786</td>\n",
       "      <td>3.845882</td>\n",
       "      <td>-3.467788</td>\n",
       "      <td>-3.770982</td>\n",
       "      <td>-4.529972</td>\n",
       "      <td>2.018786</td>\n",
       "      <td>-5.001408</td>\n",
       "      <td>13.903144</td>\n",
       "      <td>6.938704</td>\n",
       "      <td>...</td>\n",
       "      <td>1.928406</td>\n",
       "      <td>-0.025162</td>\n",
       "      <td>-3.816924</td>\n",
       "      <td>-6.229505</td>\n",
       "      <td>1.947279</td>\n",
       "      <td>4.284879</td>\n",
       "      <td>-1.394635</td>\n",
       "      <td>-3.225744</td>\n",
       "      <td>-0.748868</td>\n",
       "      <td>0.518862</td>\n",
       "    </tr>\n",
       "    <tr>\n",
       "      <th>448</th>\n",
       "      <td>4</td>\n",
       "      <td>-4.587108</td>\n",
       "      <td>0.054501</td>\n",
       "      <td>1.913466</td>\n",
       "      <td>3.801278</td>\n",
       "      <td>5.442762</td>\n",
       "      <td>1.987819</td>\n",
       "      <td>-2.669119</td>\n",
       "      <td>2.299736</td>\n",
       "      <td>0.696190</td>\n",
       "      <td>...</td>\n",
       "      <td>6.281139</td>\n",
       "      <td>3.046447</td>\n",
       "      <td>2.872495</td>\n",
       "      <td>6.300110</td>\n",
       "      <td>4.974455</td>\n",
       "      <td>5.662925</td>\n",
       "      <td>2.430268</td>\n",
       "      <td>2.014565</td>\n",
       "      <td>-0.049165</td>\n",
       "      <td>0.417764</td>\n",
       "    </tr>\n",
       "    <tr>\n",
       "      <th>72</th>\n",
       "      <td>1</td>\n",
       "      <td>-10.315852</td>\n",
       "      <td>3.384872</td>\n",
       "      <td>-0.584831</td>\n",
       "      <td>-1.332112</td>\n",
       "      <td>-2.088518</td>\n",
       "      <td>-0.588885</td>\n",
       "      <td>1.581876</td>\n",
       "      <td>3.629779</td>\n",
       "      <td>3.792053</td>\n",
       "      <td>...</td>\n",
       "      <td>-0.355268</td>\n",
       "      <td>1.867148</td>\n",
       "      <td>-3.640988</td>\n",
       "      <td>0.150169</td>\n",
       "      <td>-7.605118</td>\n",
       "      <td>-2.907620</td>\n",
       "      <td>0.065612</td>\n",
       "      <td>-2.303785</td>\n",
       "      <td>1.341823</td>\n",
       "      <td>-0.180038</td>\n",
       "    </tr>\n",
       "    <tr>\n",
       "      <th>358</th>\n",
       "      <td>3</td>\n",
       "      <td>-14.102504</td>\n",
       "      <td>-3.513867</td>\n",
       "      <td>-2.529072</td>\n",
       "      <td>-0.764417</td>\n",
       "      <td>0.639227</td>\n",
       "      <td>4.687677</td>\n",
       "      <td>5.256490</td>\n",
       "      <td>2.229466</td>\n",
       "      <td>4.879321</td>\n",
       "      <td>...</td>\n",
       "      <td>-2.445223</td>\n",
       "      <td>-1.542656</td>\n",
       "      <td>2.668489</td>\n",
       "      <td>2.578780</td>\n",
       "      <td>2.564669</td>\n",
       "      <td>1.860014</td>\n",
       "      <td>-0.802099</td>\n",
       "      <td>0.377526</td>\n",
       "      <td>-0.058984</td>\n",
       "      <td>0.240883</td>\n",
       "    </tr>\n",
       "    <tr>\n",
       "      <th>166</th>\n",
       "      <td>3</td>\n",
       "      <td>-13.781430</td>\n",
       "      <td>-5.594676</td>\n",
       "      <td>-3.267520</td>\n",
       "      <td>0.175659</td>\n",
       "      <td>0.914479</td>\n",
       "      <td>6.730397</td>\n",
       "      <td>2.643623</td>\n",
       "      <td>5.265419</td>\n",
       "      <td>1.366230</td>\n",
       "      <td>...</td>\n",
       "      <td>-0.152655</td>\n",
       "      <td>-4.085738</td>\n",
       "      <td>-2.483079</td>\n",
       "      <td>-2.303131</td>\n",
       "      <td>-2.321737</td>\n",
       "      <td>3.224841</td>\n",
       "      <td>2.865851</td>\n",
       "      <td>2.537357</td>\n",
       "      <td>-0.017308</td>\n",
       "      <td>0.183198</td>\n",
       "    </tr>\n",
       "    <tr>\n",
       "      <th>...</th>\n",
       "      <td>...</td>\n",
       "      <td>...</td>\n",
       "      <td>...</td>\n",
       "      <td>...</td>\n",
       "      <td>...</td>\n",
       "      <td>...</td>\n",
       "      <td>...</td>\n",
       "      <td>...</td>\n",
       "      <td>...</td>\n",
       "      <td>...</td>\n",
       "      <td>...</td>\n",
       "      <td>...</td>\n",
       "      <td>...</td>\n",
       "      <td>...</td>\n",
       "      <td>...</td>\n",
       "      <td>...</td>\n",
       "      <td>...</td>\n",
       "      <td>...</td>\n",
       "      <td>...</td>\n",
       "      <td>...</td>\n",
       "      <td>...</td>\n",
       "    </tr>\n",
       "    <tr>\n",
       "      <th>461</th>\n",
       "      <td>2</td>\n",
       "      <td>-8.717013</td>\n",
       "      <td>-4.394144</td>\n",
       "      <td>-6.607750</td>\n",
       "      <td>-5.957029</td>\n",
       "      <td>-5.500636</td>\n",
       "      <td>-4.609003</td>\n",
       "      <td>-0.732479</td>\n",
       "      <td>0.115237</td>\n",
       "      <td>-0.722335</td>\n",
       "      <td>...</td>\n",
       "      <td>-0.495832</td>\n",
       "      <td>3.198719</td>\n",
       "      <td>1.341430</td>\n",
       "      <td>1.762988</td>\n",
       "      <td>-1.612264</td>\n",
       "      <td>0.180926</td>\n",
       "      <td>1.970736</td>\n",
       "      <td>1.442808</td>\n",
       "      <td>0.569899</td>\n",
       "      <td>-0.234729</td>\n",
       "    </tr>\n",
       "    <tr>\n",
       "      <th>207</th>\n",
       "      <td>1</td>\n",
       "      <td>-15.384708</td>\n",
       "      <td>-1.546202</td>\n",
       "      <td>-2.146414</td>\n",
       "      <td>-0.693004</td>\n",
       "      <td>0.126809</td>\n",
       "      <td>6.471527</td>\n",
       "      <td>-0.518284</td>\n",
       "      <td>5.651614</td>\n",
       "      <td>4.293155</td>\n",
       "      <td>...</td>\n",
       "      <td>-0.325160</td>\n",
       "      <td>2.461026</td>\n",
       "      <td>0.985265</td>\n",
       "      <td>-4.583760</td>\n",
       "      <td>-2.477705</td>\n",
       "      <td>0.515644</td>\n",
       "      <td>-0.466109</td>\n",
       "      <td>0.822481</td>\n",
       "      <td>-0.046080</td>\n",
       "      <td>-0.217706</td>\n",
       "    </tr>\n",
       "    <tr>\n",
       "      <th>454</th>\n",
       "      <td>4</td>\n",
       "      <td>-2.682411</td>\n",
       "      <td>-3.066342</td>\n",
       "      <td>2.640781</td>\n",
       "      <td>0.455114</td>\n",
       "      <td>-1.346243</td>\n",
       "      <td>-0.276417</td>\n",
       "      <td>-2.212989</td>\n",
       "      <td>1.901186</td>\n",
       "      <td>0.847218</td>\n",
       "      <td>...</td>\n",
       "      <td>-5.015357</td>\n",
       "      <td>5.178168</td>\n",
       "      <td>-4.622857</td>\n",
       "      <td>-4.655458</td>\n",
       "      <td>5.026007</td>\n",
       "      <td>-0.926137</td>\n",
       "      <td>-1.378239</td>\n",
       "      <td>-2.706190</td>\n",
       "      <td>1.334837</td>\n",
       "      <td>0.002271</td>\n",
       "    </tr>\n",
       "    <tr>\n",
       "      <th>211</th>\n",
       "      <td>3</td>\n",
       "      <td>-13.689377</td>\n",
       "      <td>-2.640582</td>\n",
       "      <td>-0.072165</td>\n",
       "      <td>0.143359</td>\n",
       "      <td>3.679362</td>\n",
       "      <td>5.342302</td>\n",
       "      <td>-1.096928</td>\n",
       "      <td>1.910284</td>\n",
       "      <td>-0.403032</td>\n",
       "      <td>...</td>\n",
       "      <td>0.826974</td>\n",
       "      <td>0.087216</td>\n",
       "      <td>-2.833264</td>\n",
       "      <td>-2.440557</td>\n",
       "      <td>1.315706</td>\n",
       "      <td>-2.046298</td>\n",
       "      <td>-3.194556</td>\n",
       "      <td>-0.575254</td>\n",
       "      <td>0.240374</td>\n",
       "      <td>0.144634</td>\n",
       "    </tr>\n",
       "    <tr>\n",
       "      <th>351</th>\n",
       "      <td>4</td>\n",
       "      <td>-11.408654</td>\n",
       "      <td>-4.929731</td>\n",
       "      <td>-8.480466</td>\n",
       "      <td>-1.310029</td>\n",
       "      <td>1.567199</td>\n",
       "      <td>3.666179</td>\n",
       "      <td>0.051530</td>\n",
       "      <td>8.274264</td>\n",
       "      <td>5.739725</td>\n",
       "      <td>...</td>\n",
       "      <td>0.066643</td>\n",
       "      <td>4.817597</td>\n",
       "      <td>6.945960</td>\n",
       "      <td>-2.924994</td>\n",
       "      <td>-0.373292</td>\n",
       "      <td>-1.919477</td>\n",
       "      <td>-5.033316</td>\n",
       "      <td>-6.389476</td>\n",
       "      <td>-2.319241</td>\n",
       "      <td>-0.168853</td>\n",
       "    </tr>\n",
       "  </tbody>\n",
       "</table>\n",
       "<p>2000 rows × 25 columns</p>\n",
       "</div>"
      ],
      "text/plain": [
       "     0          1         2         3         4         5         6   \\\n",
       "370   4   0.434786  3.845882 -3.467788 -3.770982 -4.529972  2.018786   \n",
       "448   4  -4.587108  0.054501  1.913466  3.801278  5.442762  1.987819   \n",
       "72    1 -10.315852  3.384872 -0.584831 -1.332112 -2.088518 -0.588885   \n",
       "358   3 -14.102504 -3.513867 -2.529072 -0.764417  0.639227  4.687677   \n",
       "166   3 -13.781430 -5.594676 -3.267520  0.175659  0.914479  6.730397   \n",
       "..   ..        ...       ...       ...       ...       ...       ...   \n",
       "461   2  -8.717013 -4.394144 -6.607750 -5.957029 -5.500636 -4.609003   \n",
       "207   1 -15.384708 -1.546202 -2.146414 -0.693004  0.126809  6.471527   \n",
       "454   4  -2.682411 -3.066342  2.640781  0.455114 -1.346243 -0.276417   \n",
       "211   3 -13.689377 -2.640582 -0.072165  0.143359  3.679362  5.342302   \n",
       "351   4 -11.408654 -4.929731 -8.480466 -1.310029  1.567199  3.666179   \n",
       "\n",
       "           7          8         9   ...        15        16        17  \\\n",
       "370 -5.001408  13.903144  6.938704  ...  1.928406 -0.025162 -3.816924   \n",
       "448 -2.669119   2.299736  0.696190  ...  6.281139  3.046447  2.872495   \n",
       "72   1.581876   3.629779  3.792053  ... -0.355268  1.867148 -3.640988   \n",
       "358  5.256490   2.229466  4.879321  ... -2.445223 -1.542656  2.668489   \n",
       "166  2.643623   5.265419  1.366230  ... -0.152655 -4.085738 -2.483079   \n",
       "..        ...        ...       ...  ...       ...       ...       ...   \n",
       "461 -0.732479   0.115237 -0.722335  ... -0.495832  3.198719  1.341430   \n",
       "207 -0.518284   5.651614  4.293155  ... -0.325160  2.461026  0.985265   \n",
       "454 -2.212989   1.901186  0.847218  ... -5.015357  5.178168 -4.622857   \n",
       "211 -1.096928   1.910284 -0.403032  ...  0.826974  0.087216 -2.833264   \n",
       "351  0.051530   8.274264  5.739725  ...  0.066643  4.817597  6.945960   \n",
       "\n",
       "           18        19        20        21        22        23        24  \n",
       "370 -6.229505  1.947279  4.284879 -1.394635 -3.225744 -0.748868  0.518862  \n",
       "448  6.300110  4.974455  5.662925  2.430268  2.014565 -0.049165  0.417764  \n",
       "72   0.150169 -7.605118 -2.907620  0.065612 -2.303785  1.341823 -0.180038  \n",
       "358  2.578780  2.564669  1.860014 -0.802099  0.377526 -0.058984  0.240883  \n",
       "166 -2.303131 -2.321737  3.224841  2.865851  2.537357 -0.017308  0.183198  \n",
       "..        ...       ...       ...       ...       ...       ...       ...  \n",
       "461  1.762988 -1.612264  0.180926  1.970736  1.442808  0.569899 -0.234729  \n",
       "207 -4.583760 -2.477705  0.515644 -0.466109  0.822481 -0.046080 -0.217706  \n",
       "454 -4.655458  5.026007 -0.926137 -1.378239 -2.706190  1.334837  0.002271  \n",
       "211 -2.440557  1.315706 -2.046298 -3.194556 -0.575254  0.240374  0.144634  \n",
       "351 -2.924994 -0.373292 -1.919477 -5.033316 -6.389476 -2.319241 -0.168853  \n",
       "\n",
       "[2000 rows x 25 columns]"
      ]
     },
     "execution_count": 3,
     "metadata": {},
     "output_type": "execute_result"
    }
   ],
   "source": [
    "shuffled_df = full_df.sample(frac=1.0)\n",
    "shuffled_df"
   ]
  },
  {
   "cell_type": "markdown",
   "metadata": {},
   "source": [
    "分离数据和标签："
   ]
  },
  {
   "cell_type": "code",
   "execution_count": 4,
   "metadata": {},
   "outputs": [
    {
     "data": {
      "text/plain": [
       "(2000,)"
      ]
     },
     "execution_count": 4,
     "metadata": {},
     "output_type": "execute_result"
    }
   ],
   "source": [
    "labels = shuffled_df.values[:, 0]\n",
    "labels.shape"
   ]
  },
  {
   "cell_type": "code",
   "execution_count": 5,
   "metadata": {},
   "outputs": [
    {
     "data": {
      "text/plain": [
       "(2000, 24)"
      ]
     },
     "execution_count": 5,
     "metadata": {},
     "output_type": "execute_result"
    }
   ],
   "source": [
    "data = shuffled_df.values[:, 1:]\n",
    "data.shape"
   ]
  },
  {
   "cell_type": "markdown",
   "metadata": {},
   "source": [
    "分训练集、测试集："
   ]
  },
  {
   "cell_type": "code",
   "execution_count": 6,
   "metadata": {},
   "outputs": [],
   "source": [
    "train_x = data[:1500]\n",
    "train_y = labels[:1500]\n",
    "\n",
    "test_x = data[1500:]\n",
    "test_y = labels[1500:]"
   ]
  },
  {
   "cell_type": "markdown",
   "metadata": {},
   "source": [
    "数据逐特征标准化:"
   ]
  },
  {
   "cell_type": "code",
   "execution_count": 7,
   "metadata": {},
   "outputs": [],
   "source": [
    "import numpy as np\n",
    "\n",
    "x_mean = train_x.mean(axis=0)\n",
    "x_range = train_x.max(axis=0) - train_x.min(axis=0)\n",
    "\n",
    "train_x -= x_mean\n",
    "train_x /= x_range\n",
    "\n",
    "test_x -= x_mean\n",
    "test_x /= x_range"
   ]
  },
  {
   "cell_type": "code",
   "execution_count": 8,
   "metadata": {},
   "outputs": [
    {
     "name": "stdout",
     "output_type": "stream",
     "text": [
      "train_x: 0.6753620082546118 -0.7072329206039802 -1.0485439677015367e-18\n",
      "test_x: 0.6368769337965755 -0.7795960641949204 -1.0485439677015367e-18\n"
     ]
    }
   ],
   "source": [
    "print('train_x:', np.max(train_x), np.min(train_x), np.mean(train_x))\n",
    "print('test_x:', np.max(test_x), np.min(test_x), np.mean(train_x))"
   ]
  },
  {
   "cell_type": "markdown",
   "metadata": {},
   "source": [
    "标签 one-hot 编码："
   ]
  },
  {
   "cell_type": "code",
   "execution_count": 9,
   "metadata": {},
   "outputs": [
    {
     "name": "stdout",
     "output_type": "stream",
     "text": [
      "(1500, 4) (500, 4)\n"
     ]
    }
   ],
   "source": [
    "def one_hot(targets, num_classes):\n",
    "    return np.eye(num_classes)[targets.astype('int32').reshape(-1)]\n",
    "\n",
    "# [1, 4] => [0, 3]\n",
    "train_y -= 1\n",
    "test_y -= 1\n",
    "\n",
    "# one-hot\n",
    "train_y = one_hot(train_y, 4)\n",
    "test_y = one_hot(test_y, 4)\n",
    "\n",
    "print(train_y.shape, test_y.shape)"
   ]
  },
  {
   "cell_type": "markdown",
   "metadata": {},
   "source": [
    "## Tensorflow\n",
    "\n",
    "构建网络："
   ]
  },
  {
   "cell_type": "code",
   "execution_count": 10,
   "metadata": {},
   "outputs": [],
   "source": [
    "from tensorflow.keras.models import Model\n",
    "from tensorflow.keras import Input\n",
    "from tensorflow.keras import layers\n",
    "\n",
    "def build_model():\n",
    "    input_tensor = Input(shape=(train_x.shape[1], ))\n",
    "    x = layers.Dense(256, activation='relu')(input_tensor)\n",
    "    x = layers.Dense(256, activation='relu')(x)\n",
    "    x = layers.Dropout(0.2)(x)\n",
    "    output_tensor = layers.Dense(4, activation='softmax')(x)\n",
    "    \n",
    "    model = Model(input_tensor, output_tensor)\n",
    "    \n",
    "    model.compile(optimizer=\"rmsprop\", loss=\"categorical_crossentropy\", metrics=[\"accuracy\"])\n",
    "    \n",
    "    return model"
   ]
  },
  {
   "cell_type": "markdown",
   "metadata": {},
   "source": [
    "训练模型："
   ]
  },
  {
   "cell_type": "code",
   "execution_count": 11,
   "metadata": {},
   "outputs": [
    {
     "name": "stdout",
     "output_type": "stream",
     "text": [
      "Model: \"functional_1\"\n",
      "_________________________________________________________________\n",
      "Layer (type)                 Output Shape              Param #   \n",
      "=================================================================\n",
      "input_1 (InputLayer)         [(None, 24)]              0         \n",
      "_________________________________________________________________\n",
      "dense (Dense)                (None, 256)               6400      \n",
      "_________________________________________________________________\n",
      "dense_1 (Dense)              (None, 256)               65792     \n",
      "_________________________________________________________________\n",
      "dropout (Dropout)            (None, 256)               0         \n",
      "_________________________________________________________________\n",
      "dense_2 (Dense)              (None, 4)                 1028      \n",
      "=================================================================\n",
      "Total params: 73,220\n",
      "Trainable params: 73,220\n",
      "Non-trainable params: 0\n",
      "_________________________________________________________________\n",
      "Epoch 1/10\n",
      "11/11 [==============================] - 0s 15ms/step - loss: 1.1807 - accuracy: 0.5881 - val_loss: 0.9500 - val_accuracy: 0.6400\n",
      "Epoch 2/10\n",
      "11/11 [==============================] - 0s 4ms/step - loss: 0.7892 - accuracy: 0.7763 - val_loss: 0.6600 - val_accuracy: 0.7200\n",
      "Epoch 3/10\n",
      "11/11 [==============================] - 0s 4ms/step - loss: 0.5695 - accuracy: 0.8193 - val_loss: 0.5086 - val_accuracy: 0.8533\n",
      "Epoch 4/10\n",
      "11/11 [==============================] - 0s 3ms/step - loss: 0.4505 - accuracy: 0.8496 - val_loss: 0.4236 - val_accuracy: 0.8667\n",
      "Epoch 5/10\n",
      "11/11 [==============================] - 0s 4ms/step - loss: 0.3718 - accuracy: 0.8770 - val_loss: 0.3694 - val_accuracy: 0.8867\n",
      "Epoch 6/10\n",
      "11/11 [==============================] - 0s 4ms/step - loss: 0.3276 - accuracy: 0.8748 - val_loss: 0.3575 - val_accuracy: 0.8200\n",
      "Epoch 7/10\n",
      "11/11 [==============================] - 0s 4ms/step - loss: 0.2949 - accuracy: 0.8852 - val_loss: 0.3319 - val_accuracy: 0.9000\n",
      "Epoch 8/10\n",
      "11/11 [==============================] - 0s 3ms/step - loss: 0.2802 - accuracy: 0.8889 - val_loss: 0.3184 - val_accuracy: 0.9000\n",
      "Epoch 9/10\n",
      "11/11 [==============================] - 0s 4ms/step - loss: 0.2517 - accuracy: 0.9015 - val_loss: 0.3069 - val_accuracy: 0.9067\n",
      "Epoch 10/10\n",
      "11/11 [==============================] - 0s 3ms/step - loss: 0.2437 - accuracy: 0.8970 - val_loss: 0.3079 - val_accuracy: 0.8733\n"
     ]
    }
   ],
   "source": [
    "model_tf = build_model()\n",
    "model_tf.summary()\n",
    "\n",
    "history = model_tf.fit(train_x, train_y,\n",
    "                    validation_split=0.1, \n",
    "                    epochs=10, batch_size=128)"
   ]
  },
  {
   "cell_type": "markdown",
   "metadata": {},
   "source": [
    "绘制拟合过程曲线："
   ]
  },
  {
   "cell_type": "code",
   "execution_count": 12,
   "metadata": {},
   "outputs": [
    {
     "data": {
      "image/png": "[encoded data removed]",
      "text/plain": [
       "<Figure size 432x288 with 1 Axes>"
      ]
     },
     "metadata": {
      "needs_background": "light"
     },
     "output_type": "display_data"
    }
   ],
   "source": [
    "import matplotlib.pyplot as plt\n",
    "\n",
    "loss = history.history['loss']\n",
    "val_loss = history.history['val_loss']\n",
    "epochs = range(1, len(loss) + 1)\n",
    "\n",
    "plt.plot(epochs, loss, 'bo-', label='Training loss')\n",
    "plt.plot(epochs, val_loss, 'rs-', label='Validation loss')\n",
    "plt.title('Training and validation loss')\n",
    "plt.xlabel('Epochs')\n",
    "plt.ylabel('Loss')\n",
    "plt.legend()\n",
    "plt.show()"
   ]
  },
  {
   "cell_type": "code",
   "execution_count": 13,
   "metadata": {},
   "outputs": [
    {
     "data": {
      "image/png": "[encoded data removed]",
      "text/plain": [
       "<Figure size 432x288 with 1 Axes>"
      ]
     },
     "metadata": {
      "needs_background": "light"
     },
     "output_type": "display_data"
    }
   ],
   "source": [
    "plt.clf()\n",
    "\n",
    "acc = history.history['accuracy']\n",
    "val_acc = history.history['val_accuracy']\n",
    "\n",
    "plt.plot(epochs, acc, 'bo-', label='Training acc')\n",
    "plt.plot(epochs, val_acc, 'rs-', label='Validation acc')\n",
    "plt.title('Training and validation accuracy')\n",
    "plt.xlabel('Epochs')\n",
    "plt.ylabel('acc')\n",
    "plt.legend()\n",
    "plt.show()"
   ]
  },
  {
   "cell_type": "markdown",
   "metadata": {},
   "source": [
    "在测试集评估结果："
   ]
  },
  {
   "cell_type": "code",
   "execution_count": 14,
   "metadata": {},
   "outputs": [
    {
     "name": "stdout",
     "output_type": "stream",
     "text": [
      "4/4 [==============================] - 0s 4ms/step - loss: 0.2850 - accuracy: 0.8700\n"
     ]
    },
    {
     "data": {
      "text/plain": [
       "[0.2849743068218231, 0.8700000047683716]"
      ]
     },
     "execution_count": 14,
     "metadata": {},
     "output_type": "execute_result"
    }
   ],
   "source": [
    "model_tf.evaluate(test_x, test_y, batch_size=128)"
   ]
  },
  {
   "cell_type": "markdown",
   "metadata": {},
   "source": [
    "## UntitledNN"
   ]
  },
  {
   "cell_type": "code",
   "execution_count": 15,
   "metadata": {},
   "outputs": [
    {
     "name": "stdout",
     "output_type": "stream",
     "text": [
      "/Users/c/Projects/untitlednn\n"
     ]
    }
   ],
   "source": [
    "%cd ~/Projects/untitlednn"
   ]
  },
  {
   "cell_type": "code",
   "execution_count": 16,
   "metadata": {},
   "outputs": [],
   "source": [
    "from untitlednn.tensor import Tensor\n",
    "from untitlednn.nn import NeuralNetwork\n",
    "from untitlednn.layer import Dense, ReLU, Dropout\n",
    "from untitlednn.model import Model\n",
    "from untitlednn.loss import SoftmaxCrossEntropy\n",
    "from untitlednn.optimizer import Adam\n",
    "from untitlednn.evaluator import OneHotAccEvaluator"
   ]
  },
  {
   "cell_type": "code",
   "execution_count": 17,
   "metadata": {},
   "outputs": [
    {
     "name": "stdout",
     "output_type": "stream",
     "text": [
      "(1350, 24) (150, 24)\n"
     ]
    }
   ],
   "source": [
    "validation_split = 0.1\n",
    "validation_split_idx = int(validation_split * train_x.shape[0])\n",
    "\n",
    "train_x = Tensor(train_x[validation_split_idx:])\n",
    "train_y = Tensor(train_y[validation_split_idx:])\n",
    "\n",
    "validation_x = Tensor(train_x[:validation_split_idx])\n",
    "validation_y = Tensor(train_y[:validation_split_idx])\n",
    "\n",
    "test_x = Tensor(test_x)\n",
    "test_y = Tensor(test_y)\n",
    "\n",
    "print(train_x.shape, validation_x.shape)"
   ]
  },
  {
   "cell_type": "code",
   "execution_count": 18,
   "metadata": {},
   "outputs": [],
   "source": [
    "# construct network\n",
    "network = NeuralNetwork([\n",
    "    Dense(train_x.shape[1], 256),\n",
    "    ReLU(),\n",
    "    Dense(256, 256),\n",
    "    ReLU(),\n",
    "    Dropout(0.8),\n",
    "    Dense(256, 4),\n",
    "])"
   ]
  },
  {
   "cell_type": "code",
   "execution_count": 19,
   "metadata": {},
   "outputs": [
    {
     "name": "stdout",
     "output_type": "stream",
     "text": [
      "Model: \"Model_5443062416\"\n",
      "____________________________\n",
      "Layer\tOutputShape\tParam#\n",
      "============================\n",
      "Dense\t\t256\t\t6400\n",
      "ReLU\t\tNone\t\t0\n",
      "Dense\t\t256\t\t65792\n",
      "ReLU\t\tNone\t\t0\n",
      "Dropout\t\tNone\t\t0\n",
      "Dense\t\t4\t\t1028\n",
      "============================\n",
      "Trainable Params: 73220\n",
      "\n"
     ]
    },
    {
     "data": {
      "text/plain": [
       "<untitlednn.model.Model at 0x1446e8a90>"
      ]
     },
     "execution_count": 19,
     "metadata": {},
     "output_type": "execute_result"
    }
   ],
   "source": [
    "# build model\n",
    "model_unn = Model(network,\n",
    "              loss=SoftmaxCrossEntropy(),\n",
    "              optimizer=Adam(lr=1e-3),\n",
    "              evaluator=OneHotAccEvaluator)\n",
    "\n",
    "model_unn.summary()\n",
    "model_unn"
   ]
  },
  {
   "cell_type": "code",
   "execution_count": 20,
   "metadata": {},
   "outputs": [
    {
     "name": "stdout",
     "output_type": "stream",
     "text": [
      "Epoch 1/10:\ttrain 0.0645s, evaluate 0.0017s\t{'total_num': 150, 'hit_num': 71, 'accuracy': 0.47333333333333333, 'loss': 5.617201668616183}\n",
      "Epoch 2/10:\ttrain 0.0454s, evaluate 0.0015s\t{'total_num': 150, 'hit_num': 71, 'accuracy': 0.47333333333333333, 'loss': 5.557947687832552}\n",
      "Epoch 3/10:\ttrain 0.0492s, evaluate 0.0015s\t{'total_num': 150, 'hit_num': 96, 'accuracy': 0.64, 'loss': 5.469395175746053}\n",
      "Epoch 4/10:\ttrain 0.0459s, evaluate 0.0016s\t{'total_num': 150, 'hit_num': 118, 'accuracy': 0.7866666666666666, 'loss': 5.371884968996006}\n",
      "Epoch 5/10:\ttrain 0.0442s, evaluate 0.0018s\t{'total_num': 150, 'hit_num': 111, 'accuracy': 0.74, 'loss': 5.272385860618347}\n",
      "Epoch 6/10:\ttrain 0.0453s, evaluate 0.0015s\t{'total_num': 150, 'hit_num': 117, 'accuracy': 0.78, 'loss': 5.30046287734898}\n",
      "Epoch 7/10:\ttrain 0.0467s, evaluate 0.0020s\t{'total_num': 150, 'hit_num': 128, 'accuracy': 0.8533333333333334, 'loss': 5.254025036027119}\n",
      "Epoch 8/10:\ttrain 0.0447s, evaluate 0.0016s\t{'total_num': 150, 'hit_num': 134, 'accuracy': 0.8933333333333333, 'loss': 5.254032320754185}\n",
      "Epoch 9/10:\ttrain 0.0662s, evaluate 0.0026s\t{'total_num': 150, 'hit_num': 134, 'accuracy': 0.8933333333333333, 'loss': 5.259402897531231}\n",
      "Epoch 10/10:\ttrain 0.1303s, evaluate 0.0022s\t{'total_num': 150, 'hit_num': 133, 'accuracy': 0.8866666666666667, 'loss': 5.184066959546472}\n"
     ]
    }
   ],
   "source": [
    "model_unn.fit(train_x, train_y, \n",
    "              batch_size=128, \n",
    "              epochs=10, \n",
    "              validation_data=(validation_x, validation_y))"
   ]
  },
  {
   "cell_type": "code",
   "execution_count": 21,
   "metadata": {},
   "outputs": [
    {
     "data": {
      "text/plain": [
       "{'total_num': 500, 'hit_num': 434, 'accuracy': 0.868}"
      ]
     },
     "execution_count": 21,
     "metadata": {},
     "output_type": "execute_result"
    }
   ],
   "source": [
    "model_unn.evaluate(test_x, test_y)"
   ]
  }
 ],
 "metadata": {
  "kernelspec": {
   "display_name": "Python 3",
   "language": "python",
   "name": "python3"
  },
  "language_info": {
   "codemirror_mode": {
    "name": "ipython",
    "version": 3
   },
   "file_extension": ".py",
   "mimetype": "text/x-python",
   "name": "python",
   "nbconvert_exporter": "python",
   "pygments_lexer": "ipython3",
   "version": "3.7.6"
  },
  "pycharm": {
   "stem_cell": {
    "cell_type": "raw",
    "source": [],
    "metadata": {
     "collapsed": false
    }
   }
  }
 },
 "nbformat": 4,
 "nbformat_minor": 4
}